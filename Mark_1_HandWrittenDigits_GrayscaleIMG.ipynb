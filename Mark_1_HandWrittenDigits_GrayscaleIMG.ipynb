{
  "nbformat": 4,
  "nbformat_minor": 0,
  "metadata": {
    "colab": {
      "name": "Mark_1_HandWrittenDigits_GrayscaleIMG.ipynb",
      "provenance": [],
      "collapsed_sections": [],
      "authorship_tag": "ABX9TyOhwvMe3gAf2C/o8m2ylcXD",
      "include_colab_link": true
    },
    "kernelspec": {
      "name": "python3",
      "display_name": "Python 3"
    },
    "language_info": {
      "name": "python"
    },
    "accelerator": "GPU"
  },
  "cells": [
    {
      "cell_type": "markdown",
      "metadata": {
        "id": "view-in-github",
        "colab_type": "text"
      },
      "source": [
        "<a href=\"https://colab.research.google.com/github/Avinash-Reddy-Kovvuri/Deep-Learning-_-Pytorch/blob/main/Mark_1_HandWrittenDigits_GrayscaleIMG.ipynb\" target=\"_parent\"><img src=\"https://colab.research.google.com/assets/colab-badge.svg\" alt=\"Open In Colab\"/></a>"
      ]
    },
    {
      "cell_type": "code",
      "source": [
        "import torch\n",
        "from torch import nn\n",
        "from torch.utils.data import DataLoader\n",
        "from torchvision import datasets\n",
        "from torchvision.transforms import ToTensor, Lambda"
      ],
      "metadata": {
        "id": "Z6uWQJiUA_Bo"
      },
      "execution_count": null,
      "outputs": []
    },
    {
      "cell_type": "code",
      "source": [
        "training_data = datasets.MNIST(\n",
        "    root=\"data\",\n",
        "    train=True,\n",
        "    download=True,\n",
        "    transform=ToTensor()\n",
        ")\n",
        "\n",
        "test_data = datasets.MNIST(\n",
        "    root=\"data\",\n",
        "    train=False,\n",
        "    download=True,\n",
        "    transform=ToTensor()\n",
        ")"
      ],
      "metadata": {
        "id": "77Fz8TMEBsXi"
      },
      "execution_count": null,
      "outputs": []
    },
    {
      "cell_type": "code",
      "source": [
        "train_dataloader = DataLoader(training_data, batch_size=64)\n",
        "test_dataloader = DataLoader(test_data, batch_size=64)"
      ],
      "metadata": {
        "id": "fwIOP5naBnBR"
      },
      "execution_count": null,
      "outputs": []
    },
    {
      "cell_type": "code",
      "source": [
        "import matplotlib.pyplot as plt\n",
        "figure = plt.figure(figsize=(8, 8))\n",
        "cols, rows = 3, 3\n",
        "for i in range(1, cols * rows + 1):\n",
        "    sample_idx = torch.randint(len(training_data), size=(1,)).item()\n",
        "    img, label = training_data[sample_idx]\n",
        "    figure.add_subplot(rows, cols, i)\n",
        "    plt.imshow(img.squeeze(), cmap=\"gray\")\n",
        "plt.show()"
      ],
      "metadata": {
        "colab": {
          "base_uri": "https://localhost:8080/",
          "height": 484
        },
        "id": "ylwsAY7aSR4c",
        "outputId": "0ac94ef5-9447-4533-d41e-3b1d6804e0de"
      },
      "execution_count": null,
      "outputs": [
        {
          "output_type": "display_data",
          "data": {
            "text/plain": [
              "<Figure size 576x576 with 9 Axes>"
            ],
            "image/png": "[encoded data removed]"
          },
          "metadata": {
            "needs_background": "light"
          }
        }
      ]
    },
    {
      "cell_type": "code",
      "source": [
        "class First_NN(nn.Module):\n",
        "    def __init__(self):\n",
        "        super(First_NN, self).__init__()\n",
        "        self.flatten = nn.Flatten()\n",
        "        self.linear_relu_stack = nn.Sequential(\n",
        "            nn.Linear(28*28, 728),\n",
        "            nn.ReLU(),\n",
        "            nn.Linear(728, 728),\n",
        "            nn.ReLU(),\n",
        "            nn.Linear(728, 10),\n",
        "        )\n",
        "\n",
        "    def forward(self, x):\n",
        "        x = self.flatten(x)\n",
        "        logits = self.linear_relu_stack(x)\n",
        "        return logits\n",
        "\n",
        "model = First_NN()"
      ],
      "metadata": {
        "id": "SA9aeLJHB6vX"
      },
      "execution_count": null,
      "outputs": []
    },
    {
      "cell_type": "code",
      "source": [
        "learning_rate = 1e-3\n",
        "batch_size = 64\n",
        "epochs = 5"
      ],
      "metadata": {
        "id": "8f8BaP4tDYLD"
      },
      "execution_count": null,
      "outputs": []
    },
    {
      "cell_type": "code",
      "source": [
        "# Initialize the loss function\n",
        "loss_fn = nn.CrossEntropyLoss()"
      ],
      "metadata": {
        "id": "67uF4gIDDayv"
      },
      "execution_count": null,
      "outputs": []
    },
    {
      "cell_type": "code",
      "source": [
        "optimizer = torch.optim.SGD(model.parameters(), lr=learning_rate)"
      ],
      "metadata": {
        "id": "tf8XNP7dDa2P"
      },
      "execution_count": null,
      "outputs": []
    },
    {
      "cell_type": "code",
      "source": [
        "def train_loop(dataloader, model, loss_fn, optimizer):\n",
        "    size = len(dataloader.dataset)\n",
        "    for batch, (X, y) in enumerate(dataloader):\n",
        "        # Compute prediction and loss\n",
        "        pred = model(X)\n",
        "        loss = loss_fn(pred, y)\n",
        "\n",
        "        # Backpropagation\n",
        "        optimizer.zero_grad()\n",
        "        loss.backward()\n",
        "        optimizer.step()\n",
        "\n",
        "        if batch % 100 == 0:\n",
        "            loss, current = loss.item(), batch * len(X)\n",
        "            print(f\"loss: {loss:>7f}  [{current:>5d}/{size:>5d}]\")"
      ],
      "metadata": {
        "id": "D2vIha4nDfNa"
      },
      "execution_count": null,
      "outputs": []
    },
    {
      "cell_type": "code",
      "source": [
        "def test_loop(dataloader, model, loss_fn):\n",
        "    size = len(dataloader.dataset)\n",
        "    num_batches = len(dataloader)\n",
        "    test_loss, correct = 0, 0\n",
        "\n",
        "    with torch.no_grad():\n",
        "        for X, y in dataloader:\n",
        "            pred = model(X)\n",
        "            test_loss += loss_fn(pred, y).item()\n",
        "            correct += (pred.argmax(1) == y).type(torch.float).sum().item()\n",
        "\n",
        "    test_loss /= num_batches\n",
        "    correct /= size\n",
        "    print(f\"Test Error: \\n Accuracy: {(100*correct):>0.1f}%, Avg loss: {test_loss:>8f} \\n\")"
      ],
      "metadata": {
        "id": "yzzNbIlFLgvl"
      },
      "execution_count": null,
      "outputs": []
    },
    {
      "cell_type": "code",
      "source": [
        "loss_fn = nn.CrossEntropyLoss()\n",
        "optimizer = torch.optim.SGD(model.parameters(), lr=learning_rate)\n",
        "\n",
        "epochs = 10\n",
        "for t in range(epochs):\n",
        "    print(f\"Epoch {t+1}\\n-------------------------------\")\n",
        "    train_loop(train_dataloader, model, loss_fn, optimizer)\n",
        "    test_loop(test_dataloader, model, loss_fn)\n",
        "print(\"Done!\")"
      ],
      "metadata": {
        "colab": {
          "base_uri": "https://localhost:8080/"
        },
        "id": "gzuFOqJHDfQ-",
        "outputId": "536eef6a-2962-4c12-d938-cad8cb728772"
      },
      "execution_count": null,
      "outputs": [
        {
          "output_type": "stream",
          "name": "stdout",
          "text": [
            "Epoch 1\n",
            "-------------------------------\n",
            "loss: 2.303507  [    0/60000]\n",
            "loss: 2.300858  [ 6400/60000]\n",
            "loss: 2.289841  [12800/60000]\n",
            "loss: 2.287675  [19200/60000]\n",
            "loss: 2.274704  [25600/60000]\n",
            "loss: 2.269763  [32000/60000]\n",
            "loss: 2.267630  [38400/60000]\n",
            "loss: 2.269175  [44800/60000]\n",
            "loss: 2.253181  [51200/60000]\n",
            "loss: 2.244161  [57600/60000]\n",
            "Test Error: \n",
            " Accuracy: 54.4%, Avg loss: 2.245641 \n",
            "\n",
            "Epoch 2\n",
            "-------------------------------\n",
            "loss: 2.246808  [    0/60000]\n",
            "loss: 2.239900  [ 6400/60000]\n",
            "loss: 2.241205  [12800/60000]\n",
            "loss: 2.214734  [19200/60000]\n",
            "loss: 2.217778  [25600/60000]\n",
            "loss: 2.209049  [32000/60000]\n",
            "loss: 2.190909  [38400/60000]\n",
            "loss: 2.212965  [44800/60000]\n",
            "loss: 2.176224  [51200/60000]\n",
            "loss: 2.160182  [57600/60000]\n",
            "Test Error: \n",
            " Accuracy: 65.1%, Avg loss: 2.164683 \n",
            "\n",
            "Epoch 3\n",
            "-------------------------------\n",
            "loss: 2.166704  [    0/60000]\n",
            "loss: 2.150491  [ 6400/60000]\n",
            "loss: 2.166212  [12800/60000]\n",
            "loss: 2.103442  [19200/60000]\n",
            "loss: 2.124771  [25600/60000]\n",
            "loss: 2.107184  [32000/60000]\n",
            "loss: 2.067727  [38400/60000]\n",
            "loss: 2.114101  [44800/60000]\n",
            "loss: 2.047677  [51200/60000]\n",
            "loss: 2.019462  [57600/60000]\n",
            "Test Error: \n",
            " Accuracy: 68.1%, Avg loss: 2.025144 \n",
            "\n",
            "Epoch 4\n",
            "-------------------------------\n",
            "loss: 2.028679  [    0/60000]\n",
            "loss: 1.995110  [ 6400/60000]\n",
            "loss: 2.032566  [12800/60000]\n",
            "loss: 1.915494  [19200/60000]\n",
            "loss: 1.957088  [25600/60000]\n",
            "loss: 1.924805  [32000/60000]\n",
            "loss: 1.858233  [38400/60000]\n",
            "loss: 1.937847  [44800/60000]\n",
            "loss: 1.830400  [51200/60000]\n",
            "loss: 1.786119  [57600/60000]\n",
            "Test Error: \n",
            " Accuracy: 71.4%, Avg loss: 1.788791 \n",
            "\n",
            "Epoch 5\n",
            "-------------------------------\n",
            "loss: 1.799634  [    0/60000]\n",
            "loss: 1.736335  [ 6400/60000]\n",
            "loss: 1.800310  [12800/60000]\n",
            "loss: 1.628170  [19200/60000]\n",
            "loss: 1.676893  [25600/60000]\n",
            "loss: 1.631495  [32000/60000]\n",
            "loss: 1.548621  [38400/60000]\n",
            "loss: 1.668863  [44800/60000]\n",
            "loss: 1.523782  [51200/60000]\n",
            "loss: 1.468161  [57600/60000]\n",
            "Test Error: \n",
            " Accuracy: 74.4%, Avg loss: 1.461894 \n",
            "\n",
            "Epoch 6\n",
            "-------------------------------\n",
            "loss: 1.493361  [    0/60000]\n",
            "loss: 1.394013  [ 6400/60000]\n",
            "loss: 1.477329  [12800/60000]\n",
            "loss: 1.293305  [19200/60000]\n",
            "loss: 1.326986  [25600/60000]\n",
            "loss: 1.281957  [32000/60000]\n",
            "loss: 1.210113  [38400/60000]\n",
            "loss: 1.361035  [44800/60000]\n",
            "loss: 1.216784  [51200/60000]\n",
            "loss: 1.160349  [57600/60000]\n",
            "Test Error: \n",
            " Accuracy: 78.2%, Avg loss: 1.146513 \n",
            "\n",
            "Epoch 7\n",
            "-------------------------------\n",
            "loss: 1.205584  [    0/60000]\n",
            "loss: 1.083451  [ 6400/60000]\n",
            "loss: 1.166895  [12800/60000]\n",
            "loss: 1.023928  [19200/60000]\n",
            "loss: 1.036580  [25600/60000]\n",
            "loss: 0.994792  [32000/60000]\n",
            "loss: 0.945245  [38400/60000]\n",
            "loss: 1.105508  [44800/60000]\n",
            "loss: 0.995346  [51200/60000]\n",
            "loss: 0.941045  [57600/60000]\n",
            "Test Error: \n",
            " Accuracy: 80.4%, Avg loss: 0.922194 \n",
            "\n",
            "Epoch 8\n",
            "-------------------------------\n",
            "loss: 1.001845  [    0/60000]\n",
            "loss: 0.870766  [ 6400/60000]\n",
            "loss: 0.940407  [12800/60000]\n",
            "loss: 0.848104  [19200/60000]\n",
            "loss: 0.845342  [25600/60000]\n",
            "loss: 0.804530  [32000/60000]\n",
            "loss: 0.768972  [38400/60000]\n",
            "loss: 0.926583  [44800/60000]\n",
            "loss: 0.851044  [51200/60000]\n",
            "loss: 0.802055  [57600/60000]\n",
            "Test Error: \n",
            " Accuracy: 82.1%, Avg loss: 0.776466 \n",
            "\n",
            "Epoch 9\n",
            "-------------------------------\n",
            "loss: 0.865909  [    0/60000]\n",
            "loss: 0.731630  [ 6400/60000]\n",
            "loss: 0.787773  [12800/60000]\n",
            "loss: 0.736358  [19200/60000]\n",
            "loss: 0.720398  [25600/60000]\n",
            "loss: 0.682146  [32000/60000]\n",
            "loss: 0.650986  [38400/60000]\n",
            "loss: 0.805087  [44800/60000]\n",
            "loss: 0.752920  [51200/60000]\n",
            "loss: 0.713067  [57600/60000]\n",
            "Test Error: \n",
            " Accuracy: 83.5%, Avg loss: 0.678985 \n",
            "\n",
            "Epoch 10\n",
            "-------------------------------\n",
            "loss: 0.771917  [    0/60000]\n",
            "loss: 0.635636  [ 6400/60000]\n",
            "loss: 0.682673  [12800/60000]\n",
            "loss: 0.662255  [19200/60000]\n",
            "loss: 0.633660  [25600/60000]\n",
            "loss: 0.600974  [32000/60000]\n",
            "loss: 0.567795  [38400/60000]\n",
            "loss: 0.720872  [44800/60000]\n",
            "loss: 0.681569  [51200/60000]\n",
            "loss: 0.653488  [57600/60000]\n",
            "Test Error: \n",
            " Accuracy: 84.9%, Avg loss: 0.610168 \n",
            "\n",
            "Done!\n"
          ]
        }
      ]
    }
  ]
}