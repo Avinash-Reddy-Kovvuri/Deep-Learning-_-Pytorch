{
  "cells": [
    {
      "cell_type": "markdown",
      "metadata": {
        "id": "view-in-github",
        "colab_type": "text"
      },
      "source": [
        "<a href=\"https://colab.research.google.com/github/Avinash-Reddy-Kovvuri/Deep-Learning-_-Pytorch/blob/main/Inferencing_GrayScaleIMG.ipynb\" target=\"_parent\"><img src=\"https://colab.research.google.com/assets/colab-badge.svg\" alt=\"Open In Colab\"/></a>"
      ]
    },
    {
      "cell_type": "code",
      "execution_count": null,
      "metadata": {
        "id": "0Ys-cU7bjam6"
      },
      "outputs": [],
      "source": [
        "import torch\n",
        "from torch import nn\n",
        "from torch.utils.data import DataLoader\n",
        "from torchvision import datasets\n",
        "from torchvision.transforms import ToTensor, Lambda\n",
        "\n",
        "training_data = datasets.MNIST(\n",
        "    root=\"data\",\n",
        "    train=True,\n",
        "    download=True,\n",
        "    transform=ToTensor()\n",
        ")\n",
        "\n",
        "test_data = datasets.MNIST(\n",
        "    root=\"data\",\n",
        "    train=False,\n",
        "    download=True,\n",
        "    transform=ToTensor()\n",
        ")\n",
        "\n",
        "train_dataloader = DataLoader(training_data, batch_size=64)\n",
        "test_dataloader = DataLoader(test_data, batch_size=64)\n",
        "\n",
        "class NeuralNetwork(nn.Module):\n",
        "    def __init__(self):\n",
        "        super(NeuralNetwork, self).__init__()\n",
        "        self.flatten = nn.Flatten()\n",
        "        self.linear_relu_stack = nn.Sequential(\n",
        "            nn.Linear(28*28, 512),\n",
        "            nn.ReLU(),\n",
        "            nn.Linear(512, 512),\n",
        "            nn.ReLU(),\n",
        "            nn.Linear(512, 10),\n",
        "        )\n",
        "\n",
        "    def forward(self, x):\n",
        "        x = self.flatten(x)\n",
        "        logits = self.linear_relu_stack(x)\n",
        "        return logits\n",
        "\n",
        "model = NeuralNetwork()"
      ]
    },
    {
      "cell_type": "code",
      "execution_count": null,
      "metadata": {
        "id": "LYDoJW2Jjgup"
      },
      "outputs": [],
      "source": [
        "\n",
        "#Hyperparameters\n",
        "learning_rate = 1e-3\n",
        "batch_size = 64\n",
        "epochs = 5"
      ]
    },
    {
      "cell_type": "code",
      "execution_count": null,
      "metadata": {
        "id": "-nwxYprwjno-"
      },
      "outputs": [],
      "source": [
        "# Initialize the loss function\n",
        "loss_fn = nn.CrossEntropyLoss()"
      ]
    },
    {
      "cell_type": "code",
      "execution_count": null,
      "metadata": {
        "id": "yGen4NzojvU9"
      },
      "outputs": [],
      "source": [
        "optimizer = torch.optim.SGD(model.parameters(), lr=learning_rate)"
      ]
    },
    {
      "cell_type": "code",
      "execution_count": null,
      "metadata": {
        "id": "cMmTZyydjoJK"
      },
      "outputs": [],
      "source": [
        "\n",
        "def train_loop(dataloader, model, loss_fn, optimizer):\n",
        "    size = len(dataloader.dataset)\n",
        "    for batch, (X, y) in enumerate(dataloader):\n",
        "        # Compute prediction and loss\n",
        "        pred = model(X)\n",
        "        loss = loss_fn(pred, y)\n",
        "\n",
        "        # Backpropagation\n",
        "        optimizer.zero_grad()\n",
        "        loss.backward()\n",
        "        optimizer.step()\n",
        "\n",
        "        if batch % 100 == 0:\n",
        "            loss, current = loss.item(), batch * len(X)\n",
        "            print(f\"loss: {loss:>7f}  [{current:>5d}/{size:>5d}]\")\n",
        "\n",
        "\n",
        "def test_loop(dataloader, model, loss_fn):\n",
        "    size = len(dataloader.dataset)\n",
        "    num_batches = len(dataloader)\n",
        "    test_loss, correct = 0, 0\n",
        "\n",
        "    with torch.no_grad():\n",
        "        for X, y in dataloader:\n",
        "            pred = model(X)\n",
        "            test_loss += loss_fn(pred, y).item()\n",
        "            correct += (pred.argmax(1) == y).type(torch.float).sum().item()\n",
        "\n",
        "    test_loss /= num_batches\n",
        "    correct /= size\n",
        "    print(f\"Test Error: \\n Accuracy: {(100*correct):>0.1f}%, Avg loss: {test_loss:>8f} \\n\")"
      ]
    },
    {
      "cell_type": "code",
      "execution_count": null,
      "metadata": {
        "colab": {
          "background_save": true,
          "base_uri": "https://localhost:8080/"
        },
        "id": "-65xQX79j0ew",
        "outputId": "012092c1-dca8-44c3-dbbf-3665bb8fe6b1"
      },
      "outputs": [
        {
          "name": "stdout",
          "output_type": "stream",
          "text": [
            "Epoch 1\n",
            "-------------------------------\n",
            "loss: 2.304953  [    0/60000]\n",
            "loss: 2.307379  [ 6400/60000]\n",
            "loss: 2.289756  [12800/60000]\n",
            "loss: 2.286545  [19200/60000]\n",
            "loss: 2.283083  [25600/60000]\n",
            "loss: 2.278819  [32000/60000]\n",
            "loss: 2.261913  [38400/60000]\n",
            "loss: 2.272245  [44800/60000]\n",
            "loss: 2.264539  [51200/60000]\n",
            "loss: 2.236707  [57600/60000]\n",
            "Test Error: \n",
            " Accuracy: 44.0%, Avg loss: 2.251014 \n",
            "\n",
            "Epoch 2\n",
            "-------------------------------\n",
            "loss: 2.250082  [    0/60000]\n",
            "loss: 2.251514  [ 6400/60000]\n",
            "loss: 2.245439  [12800/60000]\n",
            "loss: 2.211890  [19200/60000]\n",
            "loss: 2.226208  [25600/60000]\n",
            "loss: 2.221961  [32000/60000]\n",
            "loss: 2.191407  [38400/60000]\n",
            "loss: 2.221440  [44800/60000]\n",
            "loss: 2.192692  [51200/60000]\n",
            "loss: 2.155482  [57600/60000]\n",
            "Test Error: \n",
            " Accuracy: 55.5%, Avg loss: 2.176149 \n",
            "\n",
            "Epoch 3\n",
            "-------------------------------\n",
            "loss: 2.172324  [    0/60000]\n",
            "loss: 2.169357  [ 6400/60000]\n",
            "loss: 2.177413  [12800/60000]\n",
            "loss: 2.102996  [19200/60000]\n",
            "loss: 2.138866  [25600/60000]\n",
            "loss: 2.131535  [32000/60000]\n",
            "loss: 2.078877  [38400/60000]\n",
            "loss: 2.134036  [44800/60000]\n",
            "loss: 2.075829  [51200/60000]\n",
            "loss: 2.025348  [57600/60000]\n",
            "Test Error: \n",
            " Accuracy: 62.5%, Avg loss: 2.051719 \n",
            "\n",
            "Epoch 4\n",
            "-------------------------------\n",
            "loss: 2.046327  [    0/60000]\n",
            "loss: 2.031640  [ 6400/60000]\n",
            "loss: 2.061590  [12800/60000]\n",
            "loss: 1.929181  [19200/60000]\n",
            "loss: 1.990118  [25600/60000]\n",
            "loss: 1.975122  [32000/60000]\n",
            "loss: 1.893664  [38400/60000]\n",
            "loss: 1.982178  [44800/60000]\n",
            "loss: 1.881999  [51200/60000]\n",
            "loss: 1.818748  [57600/60000]\n",
            "Test Error: \n",
            " Accuracy: 68.8%, Avg loss: 1.845336 \n",
            "\n",
            "Epoch 5\n",
            "-------------------------------\n",
            "loss: 1.843570  [    0/60000]\n",
            "loss: 1.806512  [ 6400/60000]\n",
            "loss: 1.863867  [12800/60000]\n",
            "loss: 1.669193  [19200/60000]\n",
            "loss: 1.742686  [25600/60000]\n",
            "loss: 1.717177  [32000/60000]\n",
            "loss: 1.618122  [38400/60000]\n",
            "loss: 1.743852  [44800/60000]\n",
            "loss: 1.600335  [51200/60000]\n",
            "loss: 1.531471  [57600/60000]\n",
            "Test Error: \n",
            " Accuracy: 73.0%, Avg loss: 1.547590 \n",
            "\n",
            "Done!\n"
          ]
        }
      ],
      "source": [
        "loss_fn = nn.CrossEntropyLoss()\n",
        "optimizer = torch.optim.SGD(model.parameters(), lr=learning_rate)\n",
        "\n",
        "epochs = 5\n",
        "for t in range(epochs):\n",
        "    print(f\"Epoch {t+1}\\n-------------------------------\")\n",
        "    train_loop(train_dataloader, model, loss_fn, optimizer)\n",
        "    test_loop(test_dataloader, model, loss_fn)\n",
        "print(\"Done!\")"
      ]
    },
    {
      "cell_type": "markdown",
      "metadata": {
        "id": "J9gVRuxDtwJh"
      },
      "source": [
        ""
      ]
    },
    {
      "cell_type": "markdown",
      "metadata": {
        "id": "4J06l3WYry5v"
      },
      "source": [
        "Above code is same as in above note book where feed-forward neural network is defined and backward propogation is used in training the neural network along with defined hyperparameters , cross-entropy loss function , stochastic gradient descent(SGD)"
      ]
    },
    {
      "cell_type": "markdown",
      "metadata": {
        "id": "ncWUMHfBrR0F"
      },
      "source": [
        "**Inferencing - the process of using a trained DNN model to make predictions against previously unseen data.**\n",
        "\n",
        "\n",
        "*   To do that, a gray scale image of an handwritten digit is downloaded from the google.\n",
        "*   And its pixels were crop down to 28 * 28 ( width & height) which results an black colored image with no digit on it \n",
        "\n"
      ]
    },
    {
      "cell_type": "code",
      "execution_count": null,
      "metadata": {
        "colab": {
          "background_save": true,
          "base_uri": "https://localhost:8080/",
          "height": 241
        },
        "id": "qKq-yCIJnOFW",
        "outputId": "4aa355cd-d675-41b4-c3ff-0276da8b3e4f"
      },
      "outputs": [
        {
          "data": {
            "image/png": "[encoded data removed]",
            "text/plain": [
              "<PIL.PngImagePlugin.PngImageFile image mode=P size=225x224 at 0x7F5D6B1CF290>"
            ]
          },
          "execution_count": null,
          "metadata": {},
          "output_type": "execute_result"
        }
      ],
      "source": [
        "# Import the necessary libraries\n",
        "from PIL import Image\n",
        "\n",
        "img = Image.open(\"/content/Deep.png\")\n",
        "img"
      ]
    },
    {
      "cell_type": "code",
      "execution_count": null,
      "metadata": {
        "colab": {
          "background_save": true,
          "base_uri": "https://localhost:8080/"
        },
        "id": "sBDoqOiylpuX",
        "outputId": "2f40c565-ae8a-4683-a69d-121a5f0d4684"
      },
      "outputs": [
        {
          "data": {
            "text/plain": [
              "tensor([[[0.1608, 0.1373, 0.0078,  ..., 0.0078, 0.1333, 0.0588],\n",
              "         [0.1373, 0.0000, 0.0000,  ..., 0.0000, 0.0000, 0.0353],\n",
              "         [0.0078, 0.0000, 0.0000,  ..., 0.0000, 0.0000, 0.0157],\n",
              "         ...,\n",
              "         [0.0078, 0.0000, 0.0000,  ..., 0.0000, 0.0000, 0.0157],\n",
              "         [0.0078, 0.0000, 0.0000,  ..., 0.0000, 0.0000, 0.0157],\n",
              "         [0.0078, 0.0000, 0.0000,  ..., 0.0000, 0.0000, 0.0157]]])"
            ]
          },
          "execution_count": null,
          "metadata": {},
          "output_type": "execute_result"
        }
      ],
      "source": [
        "from torchvision import transforms\n",
        "convert_tensor = transforms.ToTensor()\n",
        "final = convert_tensor(img)\n",
        "final"
      ]
    },
    {
      "cell_type": "code",
      "execution_count": null,
      "metadata": {
        "colab": {
          "background_save": true,
          "base_uri": "https://localhost:8080/"
        },
        "id": "9LfHnEqZoKOC",
        "outputId": "48e62c64-68a6-438a-f68b-843f5aa0971e"
      },
      "outputs": [
        {
          "data": {
            "text/plain": [
              "torch.Size([1, 224, 225])"
            ]
          },
          "execution_count": null,
          "metadata": {},
          "output_type": "execute_result"
        }
      ],
      "source": [
        "final.shape"
      ]
    },
    {
      "cell_type": "code",
      "execution_count": null,
      "metadata": {
        "colab": {
          "background_save": true
        },
        "id": "MXvqOh29oogm"
      },
      "outputs": [],
      "source": [
        "tt = img.crop((196,197,224,225))"
      ]
    },
    {
      "cell_type": "code",
      "execution_count": null,
      "metadata": {
        "colab": {
          "background_save": true,
          "base_uri": "https://localhost:8080/",
          "height": 45
        },
        "id": "42l3pf9aoy_5",
        "outputId": "7dfbd2a7-f719-4c8e-b2a0-86ec8902c0ba"
      },
      "outputs": [
        {
          "data": {
            "image/png": "[encoded data removed]",
            "text/plain": [
              "<PIL.Image.Image image mode=P size=28x28 at 0x7F5D6B1F3D50>"
            ]
          },
          "execution_count": null,
          "metadata": {},
          "output_type": "execute_result"
        }
      ],
      "source": [
        "tt"
      ]
    },
    {
      "cell_type": "code",
      "execution_count": null,
      "metadata": {
        "colab": {
          "background_save": true,
          "base_uri": "https://localhost:8080/"
        },
        "id": "OCZP0ZNTo0Am",
        "outputId": "3d17406f-dd51-4b9e-9428-4c5149c233c4"
      },
      "outputs": [
        {
          "data": {
            "text/plain": [
              "torch.Size([1, 28, 28])"
            ]
          },
          "execution_count": null,
          "metadata": {},
          "output_type": "execute_result"
        }
      ],
      "source": [
        "final2 = convert_tensor(tt)\n",
        "final2.shape"
      ]
    },
    {
      "cell_type": "code",
      "execution_count": null,
      "metadata": {
        "colab": {
          "background_save": true,
          "base_uri": "https://localhost:8080/"
        },
        "id": "XTDnbfHDpHy4",
        "outputId": "024e0529-aa11-4049-a38b-ed5123c9f13f"
      },
      "outputs": [
        {
          "data": {
            "text/plain": [
              "tensor([[-1.4993e-01,  1.6613e-01, -4.8352e-02, -2.8850e-02,  1.8887e-02,\n",
              "          2.1781e-05,  5.0407e-03,  7.0002e-02, -4.2140e-02,  4.8008e-03]],\n",
              "       grad_fn=<AddmmBackward0>)"
            ]
          },
          "execution_count": null,
          "metadata": {},
          "output_type": "execute_result"
        }
      ],
      "source": [
        "pred =model(final2)\n",
        "pred"
      ]
    },
    {
      "cell_type": "code",
      "execution_count": null,
      "metadata": {
        "colab": {
          "background_save": true,
          "base_uri": "https://localhost:8080/"
        },
        "id": "HmOHyhCWqnq5",
        "outputId": "478cba69-a026-4fd0-fc63-3ae2d3922791"
      },
      "outputs": [
        {
          "name": "stdout",
          "output_type": "stream",
          "text": [
            "tensor([1])\n"
          ]
        }
      ],
      "source": [
        "pred_probab = nn.Softmax(dim=1)(pred)\n",
        "y_pred = pred_probab.argmax(1)\n",
        "print(y_pred)"
      ]
    },
    {
      "cell_type": "markdown",
      "metadata": {
        "id": "h_vmhY8ttyJI"
      },
      "source": [
        "After doing all the above mentioned , finally prediction resultant an number (0-9) in the image as 1 (Hand-written Digit)."
      ]
    }
  ],
  "metadata": {
    "colab": {
      "name": "Inferencing_GrayScaleIMG.ipynb",
      "provenance": [],
      "authorship_tag": "ABX9TyOAnRH9MSFzbcx3loqdhe4I",
      "include_colab_link": true
    },
    "kernelspec": {
      "display_name": "Python 3",
      "name": "python3"
    },
    "language_info": {
      "name": "python"
    }
  },
  "nbformat": 4,
  "nbformat_minor": 0
}